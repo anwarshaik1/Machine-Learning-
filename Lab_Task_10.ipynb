{
  "nbformat": 4,
  "nbformat_minor": 0,
  "metadata": {
    "colab": {
      "provenance": [],
      "authorship_tag": "ABX9TyNCWCUY0BZIf/MpO1JNsIrT",
      "include_colab_link": true
    },
    "kernelspec": {
      "name": "python3",
      "display_name": "Python 3"
    },
    "language_info": {
      "name": "python"
    }
  },
  "cells": [
    {
      "cell_type": "markdown",
      "metadata": {
        "id": "view-in-github",
        "colab_type": "text"
      },
      "source": [
        "<a href=\"https://colab.research.google.com/github/anwarshaik1/Machine-Learning-/blob/main/Lab_Task_10.ipynb\" target=\"_parent\"><img src=\"https://colab.research.google.com/assets/colab-badge.svg\" alt=\"Open In Colab\"/></a>"
      ]
    },
    {
      "cell_type": "code",
      "execution_count": 9,
      "metadata": {
        "colab": {
          "base_uri": "https://localhost:8080/"
        },
        "id": "urbFWSMgGaXB",
        "outputId": "310b6d83-aa43-40f1-840f-8039d3078c6d"
      },
      "outputs": [
        {
          "output_type": "stream",
          "name": "stdout",
          "text": [
            "Confusion Matrix:\n",
            "[[4 1]\n",
            " [0 9]]\n",
            "Accuracy: 0.9285714285714286\n",
            "Precision (Yes): 0.9\n",
            "Recall (Yes): 1.0\n",
            "F1 Score (Yes): 0.9473684210526316\n"
          ]
        },
        {
          "output_type": "stream",
          "name": "stderr",
          "text": [
            "/usr/local/lib/python3.10/dist-packages/sklearn/base.py:439: UserWarning: X does not have valid feature names, but OneHotEncoder was fitted with feature names\n",
            "  warnings.warn(\n"
          ]
        }
      ],
      "source": [
        "#1. Implement Naïve Bayes classifier for following datasets and evaluate the classification performance. Draw the confusion matrix, compute accuracy, error and other measures asapplicable.\n",
        "# a. The enjoy sports dataset as. given below\n",
        "\n",
        "import pandas as pd\n",
        "from sklearn.preprocessing import OneHotEncoder\n",
        "from sklearn.compose import ColumnTransformer\n",
        "from sklearn.naive_bayes import CategoricalNB\n",
        "from sklearn.metrics import confusion_matrix, accuracy_score, precision_score, recall_score, f1_score\n",
        "\n",
        "data = [\n",
        "    ['Sunny', 'Hot', 'High', 'Weak', 'No'],\n",
        "    ['Sunny', 'Hot', 'High', 'Strong', 'No'],\n",
        "    ['Overcast', 'Hot', 'High', 'Weak', 'Yes'],\n",
        "    ['Rain', 'Mild', 'High', 'Weak', 'Yes'],\n",
        "    ['Rain', 'Cool', 'Normal', 'Weak', 'Yes'],\n",
        "    ['Rain', 'Cool', 'Normal', 'Strong', 'No'],\n",
        "    ['Overcast', 'Cool', 'Normal', 'Strong', 'Yes'],\n",
        "    ['Sunny', 'Mild', 'High', 'Weak', 'No'],\n",
        "    ['Sunny', 'Cool', 'Normal', 'Weak', 'Yes'],\n",
        "    ['Rain', 'Mild', 'Normal', 'Weak', 'Yes'],\n",
        "    ['Sunny', 'Mild', 'Normal', 'Strong', 'Yes'],\n",
        "    ['Overcast', 'Mild', 'High', 'Strong', 'Yes'],\n",
        "    ['Overcast', 'Hot', 'Normal', 'Weak', 'Yes'],\n",
        "    ['Rain', 'Mild', 'High', 'Strong', 'No']\n",
        "]\n",
        "\n",
        "df = pd.DataFrame(data, columns=['Outlook', 'Temp', 'Humidity', 'Wind', 'Decision'])\n",
        "X = df.drop(columns=['Decision'])\n",
        "y = df['Decision']\n",
        "ct = ColumnTransformer(transformers=[('encoder', OneHotEncoder(), [0, 1, 2, 3])], remainder='passthrough')\n",
        "X_encoded = ct.fit_transform(X)\n",
        "clf = CategoricalNB()\n",
        "clf.fit(X_encoded, y)\n",
        "new_instances = [\n",
        "    ['Sunny', 'Mild', 'High', 'Weak'],\n",
        "    ['Overcast', 'Mild', 'Normal', 'Strong'],\n",
        "    ['Rain', 'Cool', 'Normal', 'Weak']\n",
        "]\n",
        "new_instances_encoded = ct.transform(new_instances)\n",
        "predictions = clf.predict(new_instances_encoded)\n",
        "conf_matrix = confusion_matrix(y, clf.predict(X_encoded))\n",
        "accuracy = accuracy_score(y, clf.predict(X_encoded))\n",
        "precision = precision_score(y, clf.predict(X_encoded), pos_label='Yes')\n",
        "recall = recall_score(y, clf.predict(X_encoded), pos_label='Yes')\n",
        "f1 = f1_score(y, clf.predict(X_encoded), pos_label='Yes')\n",
        "print(\"Confusion Matrix:\")\n",
        "print(conf_matrix)\n",
        "print(\"Accuracy:\", accuracy)\n",
        "print(\"Precision (Yes):\", precision)\n",
        "print(\"Recall (Yes):\", recall)\n",
        "print(\"F1 Score (Yes):\", f1)"
      ]
    },
    {
      "cell_type": "code",
      "source": [
        "# b. The Iris dataset\n",
        "\n",
        "from sklearn.datasets import load_iris\n",
        "from sklearn.model_selection import train_test_split\n",
        "from sklearn.naive_bayes import GaussianNB\n",
        "from sklearn.metrics import accuracy_score, precision_score, recall_score, f1_score\n",
        "iris = load_iris()\n",
        "X = iris.data\n",
        "y = iris.target\n",
        "X_train, X_test, y_train, y_test = train_test_split(X, y, test_size=0.2, random_state=42)\n",
        "clf = GaussianNB()\n",
        "clf.fit(X_train, y_train)\n",
        "y_pred = clf.predict(X_test)\n",
        "accuracy = accuracy_score(y_test, y_pred)\n",
        "precision = precision_score(y_test, y_pred, average='weighted')\n",
        "recall = recall_score(y_test, y_pred, average='weighted')\n",
        "f1 = f1_score(y_test, y_pred, average='weighted')\n",
        "print(\"Accuracy:\", accuracy)\n",
        "print(\"Precision:\", precision)\n",
        "print(\"Recall:\", recall)\n",
        "print(\"F1 Score:\", f1)\n"
      ],
      "metadata": {
        "colab": {
          "base_uri": "https://localhost:8080/"
        },
        "id": "KBhODAa0HIUj",
        "outputId": "ef59cfea-8394-41c9-927d-356ed050054f"
      },
      "execution_count": 8,
      "outputs": [
        {
          "output_type": "stream",
          "name": "stdout",
          "text": [
            "Accuracy: 1.0\n",
            "Precision: 1.0\n",
            "Recall: 1.0\n",
            "F1 Score: 1.0\n"
          ]
        }
      ]
    }
  ]
}