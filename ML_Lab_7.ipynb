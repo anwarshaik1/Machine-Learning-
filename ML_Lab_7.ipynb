{
  "nbformat": 4,
  "nbformat_minor": 0,
  "metadata": {
    "colab": {
      "provenance": [],
      "include_colab_link": true
    },
    "kernelspec": {
      "name": "python3",
      "display_name": "Python 3"
    },
    "language_info": {
      "name": "python"
    }
  },
  "cells": [
    {
      "cell_type": "markdown",
      "metadata": {
        "id": "view-in-github",
        "colab_type": "text"
      },
      "source": [
        "<a href=\"https://colab.research.google.com/github/anwarshaik1/Machine-Learning-/blob/main/ML_Lab_7.ipynb\" target=\"_parent\"><img src=\"https://colab.research.google.com/assets/colab-badge.svg\" alt=\"Open In Colab\"/></a>"
      ]
    },
    {
      "cell_type": "code",
      "execution_count": 8,
      "metadata": {
        "colab": {
          "base_uri": "https://localhost:8080/"
        },
        "id": "zGbGVwumUyDX",
        "outputId": "06b7c9d9-1d76-442f-d8e4-11aeecb57a80"
      },
      "outputs": [
        {
          "output_type": "stream",
          "name": "stdout",
          "text": [
            "Vector: [0.25078657 0.46514657 0.03007253 0.92022785 0.33648306]\n",
            "Mean of the vector: 0.40054331618573646\n",
            "Variance of the vector: 0.0876050003988495\n"
          ]
        }
      ],
      "source": [
        "#1 Create a vector (array) of 1XN dimension representing N-dimensional feature vector of a sample. Write a program to\n",
        "# compute the mean and variance of the elements present in the array.\n",
        "\n",
        "def compute_mean_and_variance(vector):\n",
        "    mean = np.mean(vector)\n",
        "    variance = np.var(vector)\n",
        "    return mean, variance\n",
        "\n",
        "# Example usage:\n",
        "N = 5  # Number of dimensions\n",
        "vector = np.random.rand(N)  # Generating a random feature vector of size N\n",
        "print(\"Vector:\",vector)\n",
        "mean, variance = compute_mean_and_variance(vector)\n",
        "print(\"Mean of the vector:\", mean)\n",
        "print(\"Variance of the vector:\", variance)\n"
      ]
    },
    {
      "cell_type": "code",
      "source": [
        "#2 Create two vectors each of dimension 1XM each representing N-dimensional feature vector of a sample. Write a program to\n",
        "# compute the Covariance between them.\n",
        "\n",
        "import numpy as np\n",
        "\n",
        "def compute_covariance(vector1, vector2):\n",
        "    covariance = np.cov(vector1, vector2, bias=True)[0][1]\n",
        "    return covariance\n",
        "\n",
        "# Example usage:\n",
        "M = 5  # Number of dimensions\n",
        "N = 100  # Number of samples\n",
        "# Generating two random feature vectors of size M\n",
        "vector1 = np.random.rand(1, M)\n",
        "vector2 = np.random.rand(1, M)\n",
        "print(\"Vector 1:\", vector1)\n",
        "print(\"Vector 2:\", vector2)\n",
        "covariance = compute_covariance(vector1, vector2)\n",
        "print(\"Covariance between the two vectors:\", covariance)"
      ],
      "metadata": {
        "colab": {
          "base_uri": "https://localhost:8080/"
        },
        "id": "OIZXzpdrVEOj",
        "outputId": "878a3609-32b9-40bc-c976-682fc9c2a694"
      },
      "execution_count": 9,
      "outputs": [
        {
          "output_type": "stream",
          "name": "stdout",
          "text": [
            "Vector 1: [[0.65211167 0.00585239 0.24413138 0.79310686 0.82812672]]\n",
            "Vector 2: [[0.32703587 0.53689923 0.33616148 0.12932255 0.554628  ]]\n",
            "Covariance between the two vectors: -0.018094335264608123\n"
          ]
        }
      ]
    },
    {
      "cell_type": "code",
      "source": [
        "#3 Create two vectors each of dimension 1XN. Write a program to compute the Correlation between them.\n",
        "\n",
        "import numpy as np\n",
        "\n",
        "def compute_correlation(vector1, vector2):\n",
        "    correlation = np.corrcoef(vector1, vector2)[0, 1]\n",
        "    return correlation\n",
        "\n",
        "# Example usage:\n",
        "N = 5  # Number of dimensions\n",
        "vector1 = np.random.rand(N)  # Generating a random vector of size N\n",
        "vector2 = np.random.rand(N)  # Generating another random vector of size N\n",
        "print(\"Vector 1:\", vector1)\n",
        "print(\"Vector 2:\", vector2)\n",
        "correlation = compute_correlation(vector1, vector2)\n",
        "print(\"Correlation between vector 1 and vector 2:\", correlation)\n"
      ],
      "metadata": {
        "colab": {
          "base_uri": "https://localhost:8080/"
        },
        "id": "VmJJ4hywWFf-",
        "outputId": "64e65149-22f5-4a42-bf80-22293d6b5d4b"
      },
      "execution_count": 10,
      "outputs": [
        {
          "output_type": "stream",
          "name": "stdout",
          "text": [
            "Vector 1: [0.56454992 0.25688111 0.3408951  0.55559978 0.66748966]\n",
            "Vector 2: [0.07049754 0.28135195 0.98835296 0.50342758 0.73750983]\n",
            "Correlation between vector 1 and vector 2: -0.04205257761093297\n"
          ]
        }
      ]
    },
    {
      "cell_type": "code",
      "source": [
        "#4 Create a Matrix of MXN dimension representing the M-dimensional feature vector for N number of samples i. e (i,j)th\n",
        "#entry of the matrix represents the ith feature of jth sample. Write a program to compute the covariance matrix and\n",
        "#correlation matrix.\n",
        "\n",
        "import numpy as np\n",
        "\n",
        "def compute_covariance_matrix(feature_matrix):\n",
        "    covariance_matrix = np.cov(feature_matrix)\n",
        "    return covariance_matrix\n",
        "\n",
        "def compute_correlation_matrix(feature_matrix):\n",
        "    correlation_matrix = np.corrcoef(feature_matrix)\n",
        "    return correlation_matrix\n",
        "\n",
        "# Example usage:\n",
        "M = 3  # Number of dimensions/features\n",
        "N = 5  # Number of samples\n",
        "feature_matrix = np.random.rand(M, N)  # Generating a random feature matrix of size MxN\n",
        "print(\"Feature matrix:\")\n",
        "print(feature_matrix)\n",
        "covariance_matrix = compute_covariance_matrix(feature_matrix)\n",
        "print(\"\\nCovariance matrix:\")\n",
        "print(covariance_matrix)\n",
        "correlation_matrix = compute_correlation_matrix(feature_matrix)\n",
        "print(\"\\nCorrelation matrix:\")\n",
        "print(correlation_matrix)\n"
      ],
      "metadata": {
        "colab": {
          "base_uri": "https://localhost:8080/"
        },
        "id": "IBkR0JZ3WWBi",
        "outputId": "d213fb39-c501-4ebe-9031-0d65ebb4a112"
      },
      "execution_count": 11,
      "outputs": [
        {
          "output_type": "stream",
          "name": "stdout",
          "text": [
            "Feature matrix:\n",
            "[[0.88773485 0.37159416 0.1392242  0.05977958 0.77555789]\n",
            " [0.87545743 0.17837621 0.36654313 0.23275427 0.18737471]\n",
            " [0.15366768 0.92987804 0.3137832  0.38331889 0.00810089]]\n",
            "\n",
            "Covariance matrix:\n",
            "[[ 0.13813722  0.05785637 -0.06108421]\n",
            " [ 0.05785637  0.0860973  -0.03807268]\n",
            " [-0.06108421 -0.03807268  0.12345536]]\n",
            "\n",
            "Correlation matrix:\n",
            "[[ 1.          0.5305191  -0.46775521]\n",
            " [ 0.5305191   1.         -0.36928677]\n",
            " [-0.46775521 -0.36928677  1.        ]]\n"
          ]
        }
      ]
    },
    {
      "cell_type": "code",
      "source": [],
      "metadata": {
        "id": "iqvqVEmqWsy-"
      },
      "execution_count": null,
      "outputs": []
    }
  ]
}